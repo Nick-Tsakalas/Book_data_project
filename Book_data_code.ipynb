{
 "cells": [
  {
   "cell_type": "code",
   "execution_count": 1,
   "id": "7e7508ef",
   "metadata": {},
   "outputs": [],
   "source": [
    "import pandas as pd\n",
    "import numpy as np\n",
    "import matplotlib.pyplot as plt\n",
    "import seaborn as sns\n",
    "pd.set_option('display.max_columns', None)\n",
    "from datetime import datetime, timedelta"
   ]
  },
  {
   "cell_type": "code",
   "execution_count": 2,
   "id": "d1406150",
   "metadata": {},
   "outputs": [],
   "source": [
    "df = pd.read_csv('kindle_data-v2.csv')"
   ]
  },
  {
   "cell_type": "code",
   "execution_count": 3,
   "id": "5151e446",
   "metadata": {},
   "outputs": [
    {
     "data": {
      "text/html": [
       "<div>\n",
       "<style scoped>\n",
       "    .dataframe tbody tr th:only-of-type {\n",
       "        vertical-align: middle;\n",
       "    }\n",
       "\n",
       "    .dataframe tbody tr th {\n",
       "        vertical-align: top;\n",
       "    }\n",
       "\n",
       "    .dataframe thead th {\n",
       "        text-align: right;\n",
       "    }\n",
       "</style>\n",
       "<table border=\"1\" class=\"dataframe\">\n",
       "  <thead>\n",
       "    <tr style=\"text-align: right;\">\n",
       "      <th></th>\n",
       "      <th>asin</th>\n",
       "      <th>title</th>\n",
       "      <th>author</th>\n",
       "      <th>soldBy</th>\n",
       "      <th>imgUrl</th>\n",
       "      <th>productURL</th>\n",
       "      <th>stars</th>\n",
       "      <th>reviews</th>\n",
       "      <th>price</th>\n",
       "      <th>isKindleUnlimited</th>\n",
       "      <th>category_id</th>\n",
       "      <th>isBestSeller</th>\n",
       "      <th>isEditorsPick</th>\n",
       "      <th>isGoodReadsChoice</th>\n",
       "      <th>publishedDate</th>\n",
       "      <th>category_name</th>\n",
       "    </tr>\n",
       "  </thead>\n",
       "  <tbody>\n",
       "    <tr>\n",
       "      <th>0</th>\n",
       "      <td>B00TZE87S4</td>\n",
       "      <td>Adult Children of Emotionally Immature Parents...</td>\n",
       "      <td>Lindsay C. Gibson</td>\n",
       "      <td>Amazon.com Services LLC</td>\n",
       "      <td>https://m.media-amazon.com/images/I/713KZTsaYp...</td>\n",
       "      <td>https://www.amazon.com/dp/B00TZE87S4</td>\n",
       "      <td>4.8</td>\n",
       "      <td>0</td>\n",
       "      <td>9.99</td>\n",
       "      <td>False</td>\n",
       "      <td>6</td>\n",
       "      <td>True</td>\n",
       "      <td>False</td>\n",
       "      <td>False</td>\n",
       "      <td>2015-06-01</td>\n",
       "      <td>Parenting &amp; Relationships</td>\n",
       "    </tr>\n",
       "    <tr>\n",
       "      <th>1</th>\n",
       "      <td>B08WCKY8MB</td>\n",
       "      <td>From Strength to Strength: Finding Success, Ha...</td>\n",
       "      <td>Arthur C. Brooks</td>\n",
       "      <td>Penguin Group (USA) LLC</td>\n",
       "      <td>https://m.media-amazon.com/images/I/A1LZcJFs9E...</td>\n",
       "      <td>https://www.amazon.com/dp/B08WCKY8MB</td>\n",
       "      <td>4.4</td>\n",
       "      <td>0</td>\n",
       "      <td>16.99</td>\n",
       "      <td>False</td>\n",
       "      <td>6</td>\n",
       "      <td>False</td>\n",
       "      <td>False</td>\n",
       "      <td>False</td>\n",
       "      <td>2022-02-15</td>\n",
       "      <td>Parenting &amp; Relationships</td>\n",
       "    </tr>\n",
       "    <tr>\n",
       "      <th>2</th>\n",
       "      <td>B09KPS84CJ</td>\n",
       "      <td>Good Inside: A Guide to Becoming the Parent Yo...</td>\n",
       "      <td>Becky Kennedy</td>\n",
       "      <td>HarperCollins Publishers</td>\n",
       "      <td>https://m.media-amazon.com/images/I/71RIWM0sv6...</td>\n",
       "      <td>https://www.amazon.com/dp/B09KPS84CJ</td>\n",
       "      <td>4.8</td>\n",
       "      <td>0</td>\n",
       "      <td>16.99</td>\n",
       "      <td>False</td>\n",
       "      <td>6</td>\n",
       "      <td>False</td>\n",
       "      <td>True</td>\n",
       "      <td>False</td>\n",
       "      <td>2022-09-13</td>\n",
       "      <td>Parenting &amp; Relationships</td>\n",
       "    </tr>\n",
       "    <tr>\n",
       "      <th>3</th>\n",
       "      <td>B07S7QPG6J</td>\n",
       "      <td>Everything I Know About Love: A Memoir</td>\n",
       "      <td>Dolly Alderton</td>\n",
       "      <td>HarperCollins Publishers</td>\n",
       "      <td>https://m.media-amazon.com/images/I/71QdQpTiKZ...</td>\n",
       "      <td>https://www.amazon.com/dp/B07S7QPG6J</td>\n",
       "      <td>4.2</td>\n",
       "      <td>0</td>\n",
       "      <td>9.95</td>\n",
       "      <td>True</td>\n",
       "      <td>6</td>\n",
       "      <td>False</td>\n",
       "      <td>True</td>\n",
       "      <td>False</td>\n",
       "      <td>2020-02-25</td>\n",
       "      <td>Parenting &amp; Relationships</td>\n",
       "    </tr>\n",
       "    <tr>\n",
       "      <th>4</th>\n",
       "      <td>B00N6PEQV0</td>\n",
       "      <td>The Seven Principles for Making Marriage Work:...</td>\n",
       "      <td>John Gottman</td>\n",
       "      <td>Random House LLC</td>\n",
       "      <td>https://m.media-amazon.com/images/I/813o4WOs+w...</td>\n",
       "      <td>https://www.amazon.com/dp/B00N6PEQV0</td>\n",
       "      <td>4.7</td>\n",
       "      <td>0</td>\n",
       "      <td>13.99</td>\n",
       "      <td>False</td>\n",
       "      <td>6</td>\n",
       "      <td>False</td>\n",
       "      <td>False</td>\n",
       "      <td>False</td>\n",
       "      <td>2015-05-05</td>\n",
       "      <td>Parenting &amp; Relationships</td>\n",
       "    </tr>\n",
       "  </tbody>\n",
       "</table>\n",
       "</div>"
      ],
      "text/plain": [
       "         asin                                              title  \\\n",
       "0  B00TZE87S4  Adult Children of Emotionally Immature Parents...   \n",
       "1  B08WCKY8MB  From Strength to Strength: Finding Success, Ha...   \n",
       "2  B09KPS84CJ  Good Inside: A Guide to Becoming the Parent Yo...   \n",
       "3  B07S7QPG6J             Everything I Know About Love: A Memoir   \n",
       "4  B00N6PEQV0  The Seven Principles for Making Marriage Work:...   \n",
       "\n",
       "              author                    soldBy  \\\n",
       "0  Lindsay C. Gibson   Amazon.com Services LLC   \n",
       "1   Arthur C. Brooks   Penguin Group (USA) LLC   \n",
       "2      Becky Kennedy  HarperCollins Publishers   \n",
       "3     Dolly Alderton  HarperCollins Publishers   \n",
       "4       John Gottman          Random House LLC   \n",
       "\n",
       "                                              imgUrl  \\\n",
       "0  https://m.media-amazon.com/images/I/713KZTsaYp...   \n",
       "1  https://m.media-amazon.com/images/I/A1LZcJFs9E...   \n",
       "2  https://m.media-amazon.com/images/I/71RIWM0sv6...   \n",
       "3  https://m.media-amazon.com/images/I/71QdQpTiKZ...   \n",
       "4  https://m.media-amazon.com/images/I/813o4WOs+w...   \n",
       "\n",
       "                             productURL  stars  reviews  price  \\\n",
       "0  https://www.amazon.com/dp/B00TZE87S4    4.8        0   9.99   \n",
       "1  https://www.amazon.com/dp/B08WCKY8MB    4.4        0  16.99   \n",
       "2  https://www.amazon.com/dp/B09KPS84CJ    4.8        0  16.99   \n",
       "3  https://www.amazon.com/dp/B07S7QPG6J    4.2        0   9.95   \n",
       "4  https://www.amazon.com/dp/B00N6PEQV0    4.7        0  13.99   \n",
       "\n",
       "   isKindleUnlimited  category_id  isBestSeller  isEditorsPick  \\\n",
       "0              False            6          True          False   \n",
       "1              False            6         False          False   \n",
       "2              False            6         False           True   \n",
       "3               True            6         False           True   \n",
       "4              False            6         False          False   \n",
       "\n",
       "   isGoodReadsChoice publishedDate              category_name  \n",
       "0              False    2015-06-01  Parenting & Relationships  \n",
       "1              False    2022-02-15  Parenting & Relationships  \n",
       "2              False    2022-09-13  Parenting & Relationships  \n",
       "3              False    2020-02-25  Parenting & Relationships  \n",
       "4              False    2015-05-05  Parenting & Relationships  "
      ]
     },
     "execution_count": 3,
     "metadata": {},
     "output_type": "execute_result"
    }
   ],
   "source": [
    "df.head()"
   ]
  },
  {
   "cell_type": "code",
   "execution_count": 4,
   "id": "d0f5c0df",
   "metadata": {},
   "outputs": [
    {
     "name": "stdout",
     "output_type": "stream",
     "text": [
      "<class 'pandas.core.frame.DataFrame'>\n",
      "RangeIndex: 133102 entries, 0 to 133101\n",
      "Data columns (total 16 columns):\n",
      " #   Column             Non-Null Count   Dtype  \n",
      "---  ------             --------------   -----  \n",
      " 0   asin               133102 non-null  object \n",
      " 1   title              133102 non-null  object \n",
      " 2   author             132677 non-null  object \n",
      " 3   soldBy             123869 non-null  object \n",
      " 4   imgUrl             133102 non-null  object \n",
      " 5   productURL         133102 non-null  object \n",
      " 6   stars              133102 non-null  float64\n",
      " 7   reviews            133102 non-null  int64  \n",
      " 8   price              133102 non-null  float64\n",
      " 9   isKindleUnlimited  133102 non-null  bool   \n",
      " 10  category_id        133102 non-null  int64  \n",
      " 11  isBestSeller       133102 non-null  bool   \n",
      " 12  isEditorsPick      133102 non-null  bool   \n",
      " 13  isGoodReadsChoice  133102 non-null  bool   \n",
      " 14  publishedDate      84086 non-null   object \n",
      " 15  category_name      133102 non-null  object \n",
      "dtypes: bool(4), float64(2), int64(2), object(8)\n",
      "memory usage: 12.7+ MB\n"
     ]
    }
   ],
   "source": [
    "df.info()"
   ]
  },
  {
   "cell_type": "code",
   "execution_count": 5,
   "id": "d3a89da1",
   "metadata": {},
   "outputs": [
    {
     "data": {
      "text/plain": [
       "1402"
      ]
     },
     "execution_count": 5,
     "metadata": {},
     "output_type": "execute_result"
    }
   ],
   "source": [
    "df['isGoodReadsChoice'].sum()"
   ]
  },
  {
   "cell_type": "code",
   "execution_count": 6,
   "id": "0ec3cbd0",
   "metadata": {},
   "outputs": [
    {
     "data": {
      "text/plain": [
       "array(['Parenting & Relationships', 'Engineering & Transportation',\n",
       "       'Science & Math', 'Mystery, Thriller & Suspense',\n",
       "       'Crafts, Hobbies & Home', 'Literature & Fiction',\n",
       "       'Biographies & Memoirs', 'Computers & Technology',\n",
       "       'Politics & Social Sciences', 'Teen & Young Adult',\n",
       "       'Foreign Language', 'Science Fiction & Fantasy', 'Travel',\n",
       "       'LGBTQ+ eBooks', 'Religion & Spirituality', 'Arts & Photo graphy',\n",
       "       'Comics', 'Education & Teaching', 'History',\n",
       "       'Cookbooks, Food & Wine', 'Nonfiction', 'Self-Help', 'Romance',\n",
       "       'Humor & Entertainment', 'Reference', 'Health, Fitness & Dieting',\n",
       "       'Sports & Outdoors', 'Medical', 'Business & Money', 'Law',\n",
       "       \"Children's eBooks\"], dtype=object)"
      ]
     },
     "execution_count": 6,
     "metadata": {},
     "output_type": "execute_result"
    }
   ],
   "source": [
    "df['category_name'].unique()"
   ]
  },
  {
   "cell_type": "code",
   "execution_count": 7,
   "id": "610d7870",
   "metadata": {},
   "outputs": [
    {
     "data": {
      "text/plain": [
       "reviews\n",
       "0         64670\n",
       "1           695\n",
       "2           515\n",
       "3           458\n",
       "4           421\n",
       "          ...  \n",
       "242575        1\n",
       "272608        1\n",
       "289251        1\n",
       "296710        1\n",
       "618227        1\n",
       "Name: reviews, Length: 8441, dtype: int64"
      ]
     },
     "execution_count": 7,
     "metadata": {},
     "output_type": "execute_result"
    }
   ],
   "source": [
    "df.groupby('reviews')['reviews'].count()"
   ]
  },
  {
   "cell_type": "code",
   "execution_count": 8,
   "id": "a6e81261",
   "metadata": {},
   "outputs": [
    {
     "data": {
      "text/plain": [
       "2236"
      ]
     },
     "execution_count": 8,
     "metadata": {},
     "output_type": "execute_result"
    }
   ],
   "source": [
    "df['isBestSeller'].sum()"
   ]
  },
  {
   "cell_type": "code",
   "execution_count": null,
   "id": "3d6ecae7",
   "metadata": {},
   "outputs": [],
   "source": []
  }
 ],
 "metadata": {
  "kernelspec": {
   "display_name": "Python 3 (ipykernel)",
   "language": "python",
   "name": "python3"
  },
  "language_info": {
   "codemirror_mode": {
    "name": "ipython",
    "version": 3
   },
   "file_extension": ".py",
   "mimetype": "text/x-python",
   "name": "python",
   "nbconvert_exporter": "python",
   "pygments_lexer": "ipython3",
   "version": "3.11.4"
  }
 },
 "nbformat": 4,
 "nbformat_minor": 5
}
